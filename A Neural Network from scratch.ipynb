{
 "cells": [
  {
   "cell_type": "markdown",
   "metadata": {},
   "source": [
    "### Building a Neural Network from scratch + Comparison to Keras\n",
    "while we can build neural networks (NN) with only a few lines of code using high level Python packages such as Keras/tensorflow, building one from scratch helps making sure we understand everything. I will try to write efficient, vectorised code instead of the much slower for/while loops. The datasets could be anything, so we start with the famous MNIST set of handwritten digits and build a classifier. The result will then be compared to a Keras model.\n",
    "\n",
    "Start by importing some libraries:"
   ]
  },
  {
   "cell_type": "code",
   "execution_count": 23,
   "metadata": {
    "collapsed": false,
    "scrolled": true
   },
   "outputs": [],
   "source": [
    "import numpy as np                                \n",
    "import matplotlib.pyplot as plt\n",
    "from tensorflow.examples.tutorials.mnist import input_data\n",
    "from skimage import io\n",
    "import keras as k\n",
    "from keras.models import Sequential\n",
    "from keras.layers import Dense\n",
    "import time\n",
    "from IPython.display import clear_output"
   ]
  },
  {
   "cell_type": "markdown",
   "metadata": {},
   "source": [
    "Import the data"
   ]
  },
  {
   "cell_type": "code",
   "execution_count": 24,
   "metadata": {
    "collapsed": false
   },
   "outputs": [
    {
     "name": "stdout",
     "output_type": "stream",
     "text": [
      "Extracting MNIST_data/train-images-idx3-ubyte.gz\n",
      "Extracting MNIST_data/train-labels-idx1-ubyte.gz\n",
      "Extracting MNIST_data/t10k-images-idx3-ubyte.gz\n",
      "Extracting MNIST_data/t10k-labels-idx1-ubyte.gz\n",
      "n_pix=784, m_train=55000, m_test=10000\n"
     ]
    }
   ],
   "source": [
    "mnist = input_data.read_data_sets(\"MNIST_data/\", one_hot=True)\n",
    "(n_pix,m_train,m_test)=(len(mnist.train.images[0]),len(mnist.train.images),len(mnist.test.images))\n",
    "print('n_pix='+str(n_pix)+', '+ 'm_train='+str(m_train)+', '+ 'm_test='+str(m_test))"
   ]
  },
  {
   "cell_type": "markdown",
   "metadata": {},
   "source": [
    "The data is already separated into m_train train images and m_test test images with corresponding labels. \n",
    "The images are in greyscale (values 0-1) and are given as a one-dimensional vector with length n_pix (=number of pixels)."
   ]
  },
  {
   "cell_type": "code",
   "execution_count": 25,
   "metadata": {
    "collapsed": false
   },
   "outputs": [
    {
     "name": "stdout",
     "output_type": "stream",
     "text": [
      "n_pix=784, m_train=55000, m_test=10000\n"
     ]
    }
   ],
   "source": [
    "(n_pix,m_train,m_test)=(len(mnist.train.images[0]),len(mnist.train.images),len(mnist.test.images))\n",
    "print('n_pix='+str(n_pix)+', '+ 'm_train='+str(m_train)+', '+ 'm_test='+str(m_test))"
   ]
  },
  {
   "cell_type": "markdown",
   "metadata": {},
   "source": [
    "We can show the images by reshaping them into (28x28) arrays and use the io package to display them"
   ]
  },
  {
   "cell_type": "code",
   "execution_count": 26,
   "metadata": {
    "collapsed": false
   },
   "outputs": [
    {
     "data": {
      "image/png": "[encoded data removed]",
      "text/plain": [
       "<matplotlib.figure.Figure at 0xb00107d68>"
      ]
     },
     "metadata": {},
     "output_type": "display_data"
    }
   ],
   "source": [
    "piclist=[pic.reshape((28,28)) for pic in mnist.train.images[0:5]]\n",
    "io.imshow_collection(piclist)\n",
    "io.show()"
   ]
  },
  {
   "cell_type": "markdown",
   "metadata": {},
   "source": [
    "Let's check the true values."
   ]
  },
  {
   "cell_type": "code",
   "execution_count": 27,
   "metadata": {
    "collapsed": false
   },
   "outputs": [
    {
     "data": {
      "text/plain": [
       "[7, 3, 4, 6, 1]"
      ]
     },
     "execution_count": 27,
     "metadata": {},
     "output_type": "execute_result"
    }
   ],
   "source": [
    "answerlist=[np.where(label==1)[0].item() for label in mnist.train.labels[0:5]]\n",
    "answerlist"
   ]
  },
  {
   "cell_type": "markdown",
   "metadata": {},
   "source": [
    "### Neural Network geometry\n",
    "\n",
    "The geometry of a simple NN consists of an input layer (in our case the 784 pixel values), followed by a number of hidden layers and finally an output layer (with in our case $K=10$ neurons representing the 10 possible digits). Following the deep learning course by Andrew Ng on coursera, the total number of layers (not counting the input) is called $L$, with $s_l$ neurons in layer $l=0...L$, and $s_L=K$ neurons in the output layer.\n",
    "\n",
    "The neurons have values called activations $a^{[l]}$, starting with the input values $a^{[0]}$, the pixel values of our image. To calculate the activation vector $a^{[l]}$ of the neurons in layer $l$, we first multiply the activation vector of the previous layer $a^{[l-1]}$ with the corresponding weight matrix $W^{[l]}$ and add a bias vector $b^{[l]}$, to produce $z^{(l)}= W^{[l]} a^{[l-1]}+b^{[l]}$. The matrices $W^{[l]}$ and the bias vectors $b^{[l]}$ represent the parameters that will be learned through training of the network.\n",
    "\n",
    "The resulting vector $z^{[l]}$ is fed into a nonlinear activation function to give the activation of the neurons of the next layer, $a^{[l]}=g(z^{[l]})$. Historically, the sigmoid function $\\sigma(z)=\\frac{1}{1+exp(-z)}$ was used, or alternatively $tanh(z)$, but recently the computationally easier RELU function $r(z)=max(0,z)$ is the preferred choice for all but the output layer. Here often the softmax function $s(z)_j=\\frac{exp(z_j)}{\\sum_{k=1}^K exp(z_k)}$ is used, which is conveniently normalised ($\\sum s(z)_j=1$) and will be interpreted as probability that the input image belongs to a class.\n",
    "\n",
    "Instead of looping through all $m$ training examples $x^{(i)}$, I will vectorise the process to be more efficient: The data points $x^{(i)}$ will be stored as columns in a matrix $A^{[0]}$, and the corresponding $z$-values will be the columns of the matrix $Z^{[l]}$, with $Z^{[l]}=W^{[l]} A^{[l-1]}+b^{[l]}$.\n"
   ]
  },
  {
   "cell_type": "code",
   "execution_count": 28,
   "metadata": {
    "collapsed": true
   },
   "outputs": [],
   "source": [
    "#some functions we need and their gradients:\n",
    "\n",
    "def sigmoid(z):\n",
    "    z=np.clip( z, -500, 500 )                       #restrict z to (-500,500) to avoid overflow\n",
    "    return 1.0/(1.0+np.exp(-z))\n",
    "\n",
    "def relu(z):\n",
    "    return np.maximum(0,z)\n",
    "\n",
    "def softmax(z):\n",
    "    z=np.clip( z, -500, 500 )                       #restrict z to (-500,500) to avoid overflow\n",
    "    ex=np.exp(z)                                            \n",
    "    return ex / np.sum(ex, axis=0,keepdims=True)    #column wise sum (collapse column vector to number)\n",
    "\n",
    "def leakyRelu(z):\n",
    "    return np.maximum(0.01*z,z)\n",
    "\n",
    "def grad_sigmoid(z):\n",
    "    sig=sigmoid(z)\n",
    "    return sig*(1-sig)\n",
    "\n",
    "def grad_relu(z):\n",
    "    z=z>0                       #the gradient at zero is not defined, but it's ok here to set it to zero\n",
    "    return z.astype(int)\n",
    "\n",
    "def grad_softmax(z):\n",
    "    grad=np.multiply(softmax(z),np.ones(z.shape)-softmax(z))\n",
    "    return grad\n",
    "\n",
    "def grad_leakyRelu(z):\n",
    "    x=z>0\n",
    "    z=x+(x==False)*0.01\n",
    "    return z\n"
   ]
  },
  {
   "cell_type": "markdown",
   "metadata": {},
   "source": [
    "### Initialisation and feed forward\n",
    "The process described above is called feed forward, and in practice we initialise the weigth matrices of a network randomly and can feed forward to a first guess (interpreting the activations of the last layer as a measure for likelihoood of the corresponding outcome). We will use either sigmoid or relu as activation in all hidden layers and sigmoid or softmax in the output layer. The list \"sizes\" will contain the numbers of neurons in each layer, $(s_0, ..., s_L)$. For example, sizes=[784,40,10] corresponds to a single hidden layer of 40 neurons between the input layer (784 neurons) and output layer (10 neurons). \n",
    "\n",
    "### Cost function + regularisation\n",
    "Once the activation of the final (=output) layer is calculated, we can compare it to the true label and define a loss or cost function, describing how far off we are. The aim will be to minimise this cost function. The total cost over the training (or test) set is the average of the cost terms $J$ of each data point $(x^{(i)},y^{(i)})$, $J_{tot}=\\frac{1}{m}\\sum_m J$.\n",
    "\n",
    "There are different choices for the cost, for example the cross entropy $J=-\\sum_k y_k\\,log(a_k)+ (1-y_k)\\,log((1-a_k))$, where $a$ is the activation of the output layer and $y$ is the true label vector, with a one marking the correct answer.\n",
    "\n",
    "To prevent overfitting, we regularise the cost by adding a term $\\frac{\\lambda}{2 m}\\sum_l ||W^{[l]}||^2$, which sums up the squared weights of all connections in the network, effectively penalising the algorithm for using large weights. The parameter $\\lambda$ should be chosen carefully.\n",
    "\n",
    "### Training the network: Back propagation and gradient descent\n",
    "We now minimise the cost by calculating the gradient of the cost with respect to the weights and biases. For this, we change the weights and biases proportional to a learning rate $\\alpha$ in the direction of the partial gradients of the cost function: $W^{[l]}\\rightarrow W^{[l]}- \\alpha\\frac{\\partial J}{ \\partial W^{[l]}}$ and $b^{[l]}\\rightarrow b^{[l]}- \\alpha \\frac{\\partial J}{ \\partial b^{[l]}}$. The process can be compared with trying to get to the top of a mountain by always taking a step (with step size $\\alpha$) in the steepest direction. If $\\alpha$ is too large we might step too far, but if $\\alpha$ is too small, it will take forever and we might get stuck on a small hill.\n",
    "\n",
    "So how do we get the gradients? Just like we found the final activation layer by propagating forward through the layers, we now propagate backwards to get all derivatives: We start with the last layer, $\\frac{\\partial J}{ \\partial W^{[L]}}=\\frac{\\partial J}{ \\partial z^{[L]}}\\frac{\\partial z^{[L]}}{ \\partial W^{[L]}}$ with $\\frac{\\partial z^{[L]}}{ \\partial W^{[L]}}=a^{[L-1]}$ and the \"error\" of layer $L$, defined as $\\delta^{[L]}:=\\frac{\\partial J}{ \\partial z^{[L]}}$. All partial derivatives with respect to a vector are to be understood elementwise (e.g. $\\delta_j^{[L]}:=\\frac{\\partial J}{ \\partial z_j^{[L]}}$), and so is the multiplication between the vectors.\n",
    "\n",
    "Next, we calculate the errors from $\\delta^{[L]}=\\frac{\\partial J}{ \\partial a^{[L]}}\\frac{\\partial a^{[L]}}{ \\partial z^{[L]}}$ with $\\frac{\\partial J}{ \\partial a_k}=\\frac{\\partial }{ \\partial a_k} \\left( -\\sum_{k'} y_{k'}\\,log(a_{k'})+ (1-y_{k'})\\,log((1-a_{k'})) \\right)=-\\frac{y_k}{a_k}+\\frac{1-y_k}{1-a_k}=\\frac{a_k-y_k}{a_k(1-a_k)}$ for cross entropy and $\\frac{\\partial a^{[L]}}{\\partial z^{[L]}}=\\frac{\\partial}{ \\partial z^{[L]}}g(z^{[L]})=g'(z^{[L]})$. If $g=softmax$, we get $g'(z)=softmax(z)\\,(1-softmax(z))=a \\,(1-a)$ since $a=g(z)$, and similarly if $g=sigmoid$, $g'(z)=sigmoid(z)\\,(1-sigmoid(z))=a \\,(1-a)$. In both cases the error reduces to $\\delta^{[L]}=a^{[L]}-y$.\n",
    "\n",
    "Finally, the error of layer ($l-1$) can be calculated from the error of layer $l$ via $\\delta^{[l-1]}=(W^{[l]})^T   \\delta^{[l]}\\, g'(z^{[l-1]})$, where $W^T$ is the transposed weight matrix. For the biases, we simply have $\\frac{\\partial J}{ \\partial b^{[l]}}=\\delta^{[l]}$.\n",
    "\n",
    "### Mini-batch stochastic gradient descent\n",
    "\n",
    "Another implementation detail is the Mini-batch method. In backpropagation, we calculate the gradient of the cost function with respect to $b$ or $W$ by averaging over all training examples. This can take long, so instead a common method is to select a random subset called \"mini-batch\" of $n<m$ training examples and take the average gradient of those. As a result, the algorithm will be changing the weights and biases in a sometimes less optimum way, which might in rare cases even increase the cost, but each step will be done much faster. Typical step size could be $n=10-100$, compared to $m=55000$ in our case.\n",
    "\n",
    "### Learning rate decay / momentum\n",
    "\n",
    "Another trick in stochastic gradient descent is to slowly reduce the learning rate (e.g. after each epoch) or to use an update that depends on the mean or variance of the past gradients (e.g. see \"Adam\" or \"RMSprop\"). This idea can be imagined as as marble rolling down the cost-surface, which would still keep rolling in a locally flat region due to the momentum (or speed) collected in the past steeper regions. I will give my algorithm the option to use the \"momentum\" update rule. "
   ]
  },
  {
   "cell_type": "markdown",
   "metadata": {},
   "source": [
    "Let's build our class:"
   ]
  },
  {
   "cell_type": "code",
   "execution_count": 29,
   "metadata": {
    "collapsed": false
   },
   "outputs": [],
   "source": [
    "class myNetwork:\n",
    "    \n",
    "    def __init__(self, sizes, activation, activation_final):  # store pameters of the network\n",
    "        self.sizes=sizes\n",
    "        self.biases=[np.zeros((s, 1)) for s in sizes[1:]]\n",
    "        self.weights=[np.sqrt(2/sizes[0])*np.random.randn(s2, s1)\n",
    "                      for s1, s2 in zip(sizes[:-1], sizes[1:])]     # gaussian weights\n",
    "        self.activation=activation\n",
    "        self.activation_final=activation_final\n",
    "    \n",
    "    def gradient_descent(self, A, Y, A_test, Y_test, epochs, bsize, alpha, lmbda, momentumBool):\n",
    "    \n",
    "        m=len(A.T)\n",
    "        A_test_norm=((A_test-np.mean(A))/np.std(A)) # normalise test and training data (both in the same way):\n",
    "        A=(A-np.mean(A))/np.std(A)\n",
    "    \n",
    "        A_in=A                                  # store for evaluation\n",
    "        Y_in=Y                                  \n",
    "    \n",
    "        acc_train_list=[]\n",
    "        acc_test_list=[]\n",
    "        \n",
    "        vdWlist=[0]*(len(self.sizes)-1)                                # initialise velocity for momentum\n",
    "        vdblist=[0]*(len(self.sizes)-1)\n",
    "        \n",
    "        for e in range(epochs):                           # loop through forward- and backprop\n",
    "        \n",
    "            [A,Y]=self.shuffle(A,Y)     \n",
    "            nb=int(np.floor(m/bsize))                     # number of minibatches per epoch\n",
    "        \n",
    "            for b in range(nb):\n",
    "             \n",
    "                A_mini=A[:,(b*bsize):((b+1)*bsize)]    # (784 x bsize)\n",
    "                Y_mini=Y[:,(b*bsize):((b+1)*bsize)]    # (10 x bsize)\n",
    "            \n",
    "                #feed forward to get activations:\n",
    "                [Zlist,Alist]=self.feedforward(A_mini)\n",
    "            \n",
    "                #backprop:      \n",
    "                [dWlist,dblist]=self.backprop(Alist,Zlist,Y_mini, bsize)\n",
    "                      \n",
    "                #update weights and biases (with L2 regularisation), with momentum or without:\n",
    "                if momentumBool == False:\n",
    "                    [self.weights,self.biases]=self.update(dWlist,dblist,alpha,lmbda)\n",
    "                elif momentumBool == True:\n",
    "                    [self.weights,self.biases]=self.momentumUpdate(dWlist,dblist,vdWlist,vdblist,alpha,lmbda)\n",
    "                else: \n",
    "                    print(\"check momentum boolean\")\n",
    "            \n",
    "            acc_train=self.accuracy(A_in,Y_in)\n",
    "            acc_test=self.accuracy(A_test_norm,Y_test)\n",
    "            acc_train_list.append(acc_train)\n",
    "            acc_test_list.append(acc_test)\n",
    "            #alpha=alpha/2\n",
    "            \n",
    "            print(\"epoch \"+str(e+1)+\"/\"+str(epochs)+\", test accuracy \"+str(acc_test_list[-1])+\", train acc.  \"+str(acc_train_list[-1]))\n",
    "            clear_output(wait=True)\n",
    "                \n",
    "        return [self.weights, self.biases,acc_train_list,acc_test_list]\n",
    "    \n",
    "    def feedforward(self, A):\n",
    "        Alist=[A]\n",
    "        Zlist=[]\n",
    "    \n",
    "        for k in range(len(self.weights)-1):                  # relu or sigmoid as activation for hidden layers\n",
    "            Z=np.dot(self.weights[k], A)+self.biases[k]     # add same vector b to each column of matrix (\"broadcasting\")\n",
    "            A = self.activation(Z)\n",
    "            Zlist.append(Z)\n",
    "            Alist.append(A)\n",
    "        \n",
    "        Z=np.dot(self.weights[-1], A)+self.biases[-1]\n",
    "        A = self.activation_final(Z)                         # softmax or sigmoid as activation for final layer\n",
    "        Alist.append(A)\n",
    "        Zlist.append(Z)\n",
    "\n",
    "        return [Zlist,Alist]                            # return the activations and z's\n",
    "    \n",
    "    def backprop(self, Alist,Zlist,Y, bsize):        # single backpropagation\n",
    "    \n",
    "        if str(self.activation)==str(sigmoid):       # allow two different activation functions for the hidden layers\n",
    "            grad_activation=grad_sigmoid\n",
    "        elif str(self.activation)==str(relu):\n",
    "            grad_activation=grad_relu\n",
    "        elif str(self.activation)==str(leakyRelu):\n",
    "            grad_activation=grad_leakyRelu\n",
    "        else: print(\"check activation\")  \n",
    "\n",
    "        L=len(self.sizes)-1                                  # don't count the input layer\n",
    "        dWlist=[]                                         # list to save weights errors in each mini-batch run\n",
    "        dblist=[] \n",
    "    \n",
    "        #first backprop step in output layer (sigmoid or softmax):\n",
    "        dZ=Alist[-1]-Y                                                 # dZ2:(10 x bsize), A2:(10 x bsize)\n",
    "        dW=1/bsize*np.dot(dZ, Alist[-2].T)                             # dW2:(10 x s1), A1:(s1 x bsize)\n",
    "        db=1/bsize*np.sum(dZ,axis=1,keepdims=True)                      # db2:(10 x 1)\n",
    "        dWlist.append(dW)\n",
    "        dblist.append(db)     \n",
    "                      \n",
    "        #step backwards through hidden layers (sigmoid or relu)\n",
    "        for j in range(L-1):\n",
    "            xz=np.dot(self.weights[-(j+1)].T,dZ)                        # xz:(s1 x bsize)                      \n",
    "            dZ=np.multiply(xz, grad_activation(Zlist[-(j+2)]))          # dZ1:(s1 x bsize)\n",
    "            dW=1/bsize*np.dot(dZ, Alist[-(j+3)].T)                      # dW1:(s1 x 784)\n",
    "            db=1/bsize*np.sum(dZ,axis=1,keepdims=True)                                \n",
    "            dWlist.append(dW)\n",
    "            dblist.append(db)\n",
    "    \n",
    "        return [dWlist,dblist]\n",
    "    \n",
    "    def update(self,dWlist,dblist,alpha,lmbda):     # updates weights and biases with L2 regularisation\n",
    "        for j in range(len(dWlist)):\n",
    "            self.weights[-(j+1)]=(1-alpha*lmbda)*self.weights[-(j+1)]-alpha*dWlist[j]\n",
    "        for k in range(len(dblist)):\n",
    "            self.biases[-(k+1)]=self.biases[-(k+1)]-alpha*dblist[k]\n",
    "        return [self.weights, self.biases]\n",
    "    \n",
    "    def momentumUpdate(self,dWlist,dblist,vdWlist,vdblist,alpha,lmbda):     # updates weights and biases with L2 regularisation\n",
    "        beta=0.9\n",
    "        for j in range(len(dWlist)):\n",
    "            vdWlist[j]=beta*vdWlist[j]+(1-beta)*dWlist[j]\n",
    "            self.weights[-(j+1)]=(1-alpha*lmbda)*self.weights[-(j+1)]-alpha*vdWlist[j]\n",
    "        for k in range(len(dblist)):\n",
    "            vdblist[k]=beta*vdblist[k]+(1-beta)*dblist[k]\n",
    "            self.biases[-(k+1)]=self.biases[-(k+1)]-alpha*vdblist[k]\n",
    "        return [self.weights, self.biases]\n",
    "    \n",
    "    def shuffle(self,A,Y):                          # shuffles columns of images and labels\n",
    "        shuffled=np.vstack((A,Y))                     \n",
    "        np.random.shuffle(shuffled.T)                 \n",
    "        return [shuffled[0:-10,:],shuffled[-10:,:]]\n",
    "    \n",
    "    def accuracy(self, A, Y):                     # check prediction accuracy on test (or training) data\n",
    "        A_final=self.feedforward(A)[1][-1]\n",
    "        predict_list=A_final.argmax(axis=0)    \n",
    "        true_list=Y.argmax(axis=0)\n",
    "        return sum(predict_list==true_list)/len(predict_list)\n",
    "    "
   ]
  },
  {
   "cell_type": "markdown",
   "metadata": {},
   "source": [
    "### Testing the network: Hyper parameters, Bias and Variance\n",
    "\n",
    "Now that the algorithm is set up, we can train the model parameters (weights and biases) for different sets of hyper parameters (choice of activation function, number of neurons and hidden layers, learning rate, regularisation). I will mostly work with one hidden layer, and start without regularisation. \n",
    "\n",
    "In order to help finding the right parameters, it helps to know about the high bias/ high variance problem. In a high bias situation, the model doesn't have enough degrees of freedom to make good fits to the data (imagine fitting a linear function to quadraticly looking data). Here, additional data will not help, but instead the model should be made more complex (e.g. more neuron, more layers). If instead we have high variance, the model fits perfecctly to the training data but fails to generalise well to also classify the test data. This \"over-fitting\" can be avoided by adding more data or other techniques such as regularisation (e.g. increase $\\lambda$) or dropout (randomly disabling different neurons during training)."
   ]
  },
  {
   "cell_type": "code",
   "execution_count": 30,
   "metadata": {
    "collapsed": false,
    "scrolled": true
   },
   "outputs": [],
   "source": [
    "A=mnist.train.images.T                        # we want the m training examples stored in columns, not rows\n",
    "Y=mnist.train.labels.T\n",
    "A_test=mnist.test.images.T\n",
    "Y_test=mnist.test.labels.T"
   ]
  },
  {
   "cell_type": "markdown",
   "metadata": {},
   "source": [
    "Let's start with a single hidden layer with 200 neurons, a batch size of 128 and a learning rate of 0.03. Without regularisation ($\\lambda=0$), the training error approaches 100 percent, but the test error is stuck at 98 percent because the network is overfitting."
   ]
  },
  {
   "cell_type": "code",
   "execution_count": 17,
   "metadata": {
    "collapsed": false
   },
   "outputs": [
    {
     "data": {
      "image/png": "[encoded data removed]",
      "text/plain": [
       "<matplotlib.figure.Figure at 0xb0016acc0>"
      ]
     },
     "metadata": {},
     "output_type": "display_data"
    },
    {
     "name": "stdout",
     "output_type": "stream",
     "text": [
      "0.9803\n"
     ]
    }
   ],
   "source": [
    "net00=myNetwork([784,200,10], leakyRelu, softmax)\n",
    "[Wlist, blist,acc_train_list,acc_test_list]=net00.gradient_descent(A, Y, A_test,Y_test, 300,128,0.03,0.0,True)\n",
    "plt.plot(acc_train_list)\n",
    "plt.plot(acc_test_list)\n",
    "plt.ylim([0.95,1])\n",
    "plt.ylabel('accuracy')\n",
    "plt.xlabel('epoch')\n",
    "plt.legend(['train', 'test'], loc='upper left')\n",
    "plt.show()\n",
    "print(acc_test_list[-1])"
   ]
  },
  {
   "cell_type": "markdown",
   "metadata": {},
   "source": [
    "add some regularisation ($\\lambda=0.001$): slightly increases test accuracy to 98.3"
   ]
  },
  {
   "cell_type": "code",
   "execution_count": 11,
   "metadata": {
    "collapsed": false
   },
   "outputs": [
    {
     "data": {
      "image/png": "[encoded data removed]",
      "text/plain": [
       "<matplotlib.figure.Figure at 0xb0000bef0>"
      ]
     },
     "metadata": {},
     "output_type": "display_data"
    },
    {
     "name": "stdout",
     "output_type": "stream",
     "text": [
      "0.9831\n"
     ]
    }
   ],
   "source": [
    "net00=myNetwork([784,200,10], leakyRelu, softmax)\n",
    "[Wlist, blist,acc_train_list,acc_test_list]=net00.gradient_descent(A, Y, A_test,Y_test, 300,128,0.03,0.001,True)\n",
    "plt.plot(acc_train_list)\n",
    "plt.plot(acc_test_list)\n",
    "plt.ylim([0.95,1])\n",
    "plt.ylabel('accuracy')\n",
    "plt.xlabel('epoch')\n",
    "plt.legend(['train', 'test'], loc='upper left')\n",
    "plt.show()\n",
    "print(acc_test_list[-1])"
   ]
  },
  {
   "cell_type": "markdown",
   "metadata": {},
   "source": [
    "try a bit more regularisation ($\\lambda=0.002$): doesn't seem to help"
   ]
  },
  {
   "cell_type": "code",
   "execution_count": 18,
   "metadata": {
    "collapsed": false
   },
   "outputs": [
    {
     "data": {
      "image/png": "[encoded data removed]",
      "text/plain": [
       "<matplotlib.figure.Figure at 0xb001ad240>"
      ]
     },
     "metadata": {},
     "output_type": "display_data"
    },
    {
     "name": "stdout",
     "output_type": "stream",
     "text": [
      "0.981\n"
     ]
    }
   ],
   "source": [
    "net00=myNetwork([784,200,10], leakyRelu, softmax)\n",
    "[Wlist, blist,acc_train_list,acc_test_list]=net00.gradient_descent(A, Y, A_test,Y_test, 300,128,0.03,0.002,True)\n",
    "plt.plot(acc_train_list)\n",
    "plt.plot(acc_test_list)\n",
    "plt.ylim([0.95,1])\n",
    "plt.ylabel('accuracy')\n",
    "plt.xlabel('epoch')\n",
    "plt.legend(['train', 'test'], loc='upper left')\n",
    "plt.show()\n",
    "print(acc_test_list[-1])"
   ]
  },
  {
   "cell_type": "markdown",
   "metadata": {},
   "source": [
    "with too much regularisation ($\\lambda=0.01$): Can't reach good performance even in training accuracy"
   ]
  },
  {
   "cell_type": "code",
   "execution_count": 10,
   "metadata": {
    "collapsed": false
   },
   "outputs": [
    {
     "data": {
      "image/png": "[encoded data removed]",
      "text/plain": [
       "<matplotlib.figure.Figure at 0xb62c8e518>"
      ]
     },
     "metadata": {},
     "output_type": "display_data"
    },
    {
     "name": "stdout",
     "output_type": "stream",
     "text": [
      "0.9687\n"
     ]
    }
   ],
   "source": [
    "net00=myNetwork([784,200,10], leakyRelu, softmax)\n",
    "[Wlist, blist,acc_train_list,acc_test_list]=net00.gradient_descent(A, Y, A_test,Y_test, 300,128,0.03,0.01,True)\n",
    "plt.plot(acc_train_list)\n",
    "plt.plot(acc_test_list)\n",
    "plt.ylim([0.95,1])\n",
    "plt.ylabel('accuracy')\n",
    "plt.xlabel('epoch')\n",
    "plt.legend(['train', 'test'], loc='upper left')\n",
    "plt.show()\n",
    "print(acc_test_list[-1])"
   ]
  },
  {
   "cell_type": "markdown",
   "metadata": {},
   "source": [
    "### Summary + Comparison to Keras\n",
    "The home-made neural network works and classifies the test images with an accuracy of about $98.3$ percent (1 hidden layer with 200 neurons, $\\alpha=0.03, \\,\\lambda=0.001$, $bsize=128$, using relu for hidden layers and softmax on the output layer). Training one epoch of images takes 5 seconds (on my 3 year old laptop). The code is about 110 lines long, compared to about 10 lines in Keras (see below). The Keras model is faster by a factor 2 and gives similar test accuracies."
   ]
  },
  {
   "cell_type": "code",
   "execution_count": 35,
   "metadata": {
    "collapsed": false
   },
   "outputs": [
    {
     "name": "stdout",
     "output_type": "stream",
     "text": [
      "1 loop, best of 3: 50.5 s per loop\n"
     ]
    }
   ],
   "source": [
    "net00=myNetwork([784,200,10], leakyRelu, softmax)\n",
    "%timeit  [Wlist, blist,acc_train_list,acc_test_list]=net00.gradient_descent(A, Y, A_test,Y_test, 10,128,0.03,0.01,True)"
   ]
  },
  {
   "cell_type": "code",
   "execution_count": 31,
   "metadata": {
    "collapsed": true
   },
   "outputs": [],
   "source": [
    "model = Sequential()\n",
    "model.add(Dense(units=200, activation='relu', input_dim=784))\n",
    "model.add(Dense(units=10, activation='softmax'))"
   ]
  },
  {
   "cell_type": "code",
   "execution_count": 32,
   "metadata": {
    "collapsed": true
   },
   "outputs": [],
   "source": [
    "sgd=k.optimizers.SGD(lr=0.03, momentum=0.9, decay=0, nesterov=False)\n",
    "model.compile(loss='categorical_crossentropy',\n",
    "              optimizer=sgd,\n",
    "              metrics=['accuracy'])"
   ]
  },
  {
   "cell_type": "code",
   "execution_count": 33,
   "metadata": {
    "collapsed": false
   },
   "outputs": [
    {
     "name": "stdout",
     "output_type": "stream",
     "text": [
      "Train on 55000 samples, validate on 10000 samples\n",
      "Epoch 1/30\n",
      "55000/55000 [==============================] - 3s 50us/step - loss: 0.2293 - acc: 0.9311 - val_loss: 0.1141 - val_acc: 0.9644\n",
      "Epoch 2/30\n",
      "55000/55000 [==============================] - 2s 44us/step - loss: 0.0928 - acc: 0.9719 - val_loss: 0.0916 - val_acc: 0.9703\n",
      "Epoch 3/30\n",
      "55000/55000 [==============================] - 3s 47us/step - loss: 0.0632 - acc: 0.9813 - val_loss: 0.0815 - val_acc: 0.9751\n",
      "Epoch 4/30\n",
      "55000/55000 [==============================] - 2s 45us/step - loss: 0.0445 - acc: 0.9861 - val_loss: 0.0735 - val_acc: 0.9782\n",
      "Epoch 5/30\n",
      "55000/55000 [==============================] - 3s 51us/step - loss: 0.0321 - acc: 0.9905 - val_loss: 0.0743 - val_acc: 0.9778\n",
      "Epoch 6/30\n",
      "55000/55000 [==============================] - 3s 47us/step - loss: 0.0242 - acc: 0.9931 - val_loss: 0.0726 - val_acc: 0.9776\n",
      "Epoch 7/30\n",
      "55000/55000 [==============================] - 2s 45us/step - loss: 0.0171 - acc: 0.9956 - val_loss: 0.0715 - val_acc: 0.9793\n",
      "Epoch 8/30\n",
      "55000/55000 [==============================] - 3s 49us/step - loss: 0.0125 - acc: 0.9972 - val_loss: 0.0686 - val_acc: 0.9804\n",
      "Epoch 9/30\n",
      "55000/55000 [==============================] - 3s 47us/step - loss: 0.0089 - acc: 0.9984 - val_loss: 0.0700 - val_acc: 0.9804\n",
      "Epoch 10/30\n",
      "55000/55000 [==============================] - 3s 52us/step - loss: 0.0063 - acc: 0.9992 - val_loss: 0.0715 - val_acc: 0.9805\n",
      "Epoch 11/30\n",
      "55000/55000 [==============================] - 2s 43us/step - loss: 0.0047 - acc: 0.9996 - val_loss: 0.0704 - val_acc: 0.9806\n",
      "Epoch 12/30\n",
      "55000/55000 [==============================] - 2s 43us/step - loss: 0.0035 - acc: 0.9999 - val_loss: 0.0704 - val_acc: 0.9810\n",
      "Epoch 13/30\n",
      "55000/55000 [==============================] - 2s 43us/step - loss: 0.0029 - acc: 0.9999 - val_loss: 0.0706 - val_acc: 0.9818\n",
      "Epoch 14/30\n",
      "55000/55000 [==============================] - 2s 44us/step - loss: 0.0025 - acc: 0.9999 - val_loss: 0.0728 - val_acc: 0.9820\n",
      "Epoch 15/30\n",
      "55000/55000 [==============================] - 2s 43us/step - loss: 0.0022 - acc: 1.0000 - val_loss: 0.0711 - val_acc: 0.9816\n",
      "Epoch 16/30\n",
      "55000/55000 [==============================] - 3s 46us/step - loss: 0.0020 - acc: 1.0000 - val_loss: 0.0717 - val_acc: 0.9816\n",
      "Epoch 17/30\n",
      "55000/55000 [==============================] - 3s 51us/step - loss: 0.0018 - acc: 1.0000 - val_loss: 0.0723 - val_acc: 0.9819\n",
      "Epoch 18/30\n",
      "55000/55000 [==============================] - 2s 44us/step - loss: 0.0017 - acc: 1.0000 - val_loss: 0.0724 - val_acc: 0.9821\n",
      "Epoch 19/30\n",
      "55000/55000 [==============================] - 3s 48us/step - loss: 0.0015 - acc: 1.0000 - val_loss: 0.0720 - val_acc: 0.9817\n",
      "Epoch 20/30\n",
      "55000/55000 [==============================] - 3s 48us/step - loss: 0.0015 - acc: 1.0000 - val_loss: 0.0725 - val_acc: 0.9820\n",
      "Epoch 21/30\n",
      "55000/55000 [==============================] - 2s 44us/step - loss: 0.0014 - acc: 1.0000 - val_loss: 0.0724 - val_acc: 0.9818\n",
      "Epoch 22/30\n",
      "55000/55000 [==============================] - 3s 45us/step - loss: 0.0013 - acc: 1.0000 - val_loss: 0.0735 - val_acc: 0.9822\n",
      "Epoch 23/30\n",
      "55000/55000 [==============================] - 2s 45us/step - loss: 0.0012 - acc: 1.0000 - val_loss: 0.0737 - val_acc: 0.9822\n",
      "Epoch 24/30\n",
      "55000/55000 [==============================] - 3s 51us/step - loss: 0.0012 - acc: 1.0000 - val_loss: 0.0741 - val_acc: 0.9818\n",
      "Epoch 25/30\n",
      "55000/55000 [==============================] - 3s 52us/step - loss: 0.0011 - acc: 1.0000 - val_loss: 0.0740 - val_acc: 0.9818\n",
      "Epoch 26/30\n",
      "55000/55000 [==============================] - 3s 47us/step - loss: 0.0011 - acc: 1.0000 - val_loss: 0.0739 - val_acc: 0.9824\n",
      "Epoch 27/30\n",
      "55000/55000 [==============================] - 2s 43us/step - loss: 0.0010 - acc: 1.0000 - val_loss: 0.0748 - val_acc: 0.9821\n",
      "Epoch 28/30\n",
      "55000/55000 [==============================] - 3s 47us/step - loss: 0.0010 - acc: 1.0000 - val_loss: 0.0747 - val_acc: 0.9825\n",
      "Epoch 29/30\n",
      "55000/55000 [==============================] - 2s 43us/step - loss: 9.7643e-04 - acc: 1.0000 - val_loss: 0.0755 - val_acc: 0.9820\n",
      "Epoch 30/30\n",
      "55000/55000 [==============================] - 2s 44us/step - loss: 9.4355e-04 - acc: 1.0000 - val_loss: 0.0758 - val_acc: 0.9822\n"
     ]
    },
    {
     "data": {
      "image/png": "[encoded data removed]",
      "text/plain": [
       "<matplotlib.figure.Figure at 0xb006c5f28>"
      ]
     },
     "metadata": {},
     "output_type": "display_data"
    }
   ],
   "source": [
    "A_norm=((A-np.mean(A))/np.std(A)).T\n",
    "A_test_norm=((A_test-np.mean(A))/np.std(A)).T\n",
    "history=model.fit(A_norm, mnist.train.labels, epochs=30, batch_size=128,validation_data=(A_test_norm, mnist.test.labels))\n",
    "plt.plot(history.history['acc'])\n",
    "plt.plot(history.history['val_acc'])\n",
    "plt.title('model accuracy')\n",
    "plt.ylabel('accuracy')\n",
    "plt.xlabel('epoch')\n",
    "plt.legend(['train', 'test'], loc='upper left')\n",
    "plt.show()"
   ]
  },
  {
   "cell_type": "code",
   "execution_count": null,
   "metadata": {
    "collapsed": true
   },
   "outputs": [],
   "source": []
  },
  {
   "cell_type": "code",
   "execution_count": null,
   "metadata": {
    "collapsed": true
   },
   "outputs": [],
   "source": []
  }
 ],
 "metadata": {
  "anaconda-cloud": {},
  "kernelspec": {
   "display_name": "Python [tensorflow]",
   "language": "python",
   "name": "Python [tensorflow]"
  },
  "language_info": {
   "codemirror_mode": {
    "name": "ipython",
    "version": 3
   },
   "file_extension": ".py",
   "mimetype": "text/x-python",
   "name": "python",
   "nbconvert_exporter": "python",
   "pygments_lexer": "ipython3",
   "version": "3.5.2"
  }
 },
 "nbformat": 4,
 "nbformat_minor": 1
}
